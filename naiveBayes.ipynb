{
  "nbformat": 4,
  "nbformat_minor": 0,
  "metadata": {
    "kernelspec": {
      "display_name": "Python 3",
      "language": "python",
      "name": "python3"
    },
    "language_info": {
      "codemirror_mode": {
        "name": "ipython",
        "version": 3
      },
      "file_extension": ".py",
      "mimetype": "text/x-python",
      "name": "python",
      "nbconvert_exporter": "python",
      "pygments_lexer": "ipython3",
      "version": "3.7.4"
    },
    "colab": {
      "name": "hw1_part4.ipynb",
      "provenance": [],
      "include_colab_link": true
    }
  },
  "cells": [
    {
      "cell_type": "markdown",
      "metadata": {
        "id": "view-in-github",
        "colab_type": "text"
      },
      "source": [
        "<a href=\"https://colab.research.google.com/github/yusufsamsum/naiveBayesClassifier/blob/master/naiveBayes.ipynb\" target=\"_parent\"><img src=\"https://colab.research.google.com/assets/colab-badge.svg\" alt=\"Open In Colab\"/></a>"
      ]
    },
    {
      "cell_type": "code",
      "metadata": {
        "id": "NcBYhDavZjge",
        "colab_type": "code",
        "colab": {}
      },
      "source": [
        "import os\n",
        "import csv\n",
        "import math\n",
        "import random\n",
        "import operator\n",
        "import time\n",
        "\n",
        "import numpy as np\n",
        "import pandas as pd\n",
        "from numpy import loadtxt"
      ],
      "execution_count": 0,
      "outputs": []
    },
    {
      "cell_type": "code",
      "metadata": {
        "id": "RLwn34NnZjgh",
        "colab_type": "code",
        "colab": {}
      },
      "source": [
        "test_features = pd.read_csv(\"question-4-test-features.csv\", header = None)"
      ],
      "execution_count": 0,
      "outputs": []
    },
    {
      "cell_type": "code",
      "metadata": {
        "id": "_TCtjeKdZjgj",
        "colab_type": "code",
        "colab": {}
      },
      "source": [
        "train_features = pd.read_csv(\"question-4-train-features.csv\", header = None)"
      ],
      "execution_count": 0,
      "outputs": []
    },
    {
      "cell_type": "code",
      "metadata": {
        "id": "VXeysvLIZjgl",
        "colab_type": "code",
        "colab": {}
      },
      "source": [
        "test_labels = pd.read_csv(\"question-4-test-labels.csv\", header = None)"
      ],
      "execution_count": 0,
      "outputs": []
    },
    {
      "cell_type": "code",
      "metadata": {
        "id": "9eCeBPruZjgn",
        "colab_type": "code",
        "colab": {}
      },
      "source": [
        "train_labels = pd.read_csv(\"question-4-train-labels.csv\", header = None)"
      ],
      "execution_count": 0,
      "outputs": []
    },
    {
      "cell_type": "code",
      "metadata": {
        "id": "exyEYeGlZjgp",
        "colab_type": "code",
        "colab": {}
      },
      "source": [
        "train_features.head()"
      ],
      "execution_count": 0,
      "outputs": []
    },
    {
      "cell_type": "code",
      "metadata": {
        "id": "5PlERF08Zjgs",
        "colab_type": "code",
        "colab": {}
      },
      "source": [
        "train_labels.head()\n",
        "train_labels.to_numpy()"
      ],
      "execution_count": 0,
      "outputs": []
    },
    {
      "cell_type": "code",
      "metadata": {
        "id": "m6ZLp3BgZjgu",
        "colab_type": "code",
        "colab": {}
      },
      "source": [
        "train_features.to_numpy()"
      ],
      "execution_count": 0,
      "outputs": []
    },
    {
      "cell_type": "code",
      "metadata": {
        "id": "Hf4_draYZjgv",
        "colab_type": "code",
        "colab": {}
      },
      "source": [
        "medical_word_count = np.zeros([train_features.shape[1]])\n",
        "space_word_count = np.zeros([train_features.shape[1]])\n",
        "cryptology_word_count = np.zeros([train_features.shape[1]])\n",
        "electronics_word_count = np.zeros([train_features.shape[1]])"
      ],
      "execution_count": 0,
      "outputs": []
    },
    {
      "cell_type": "code",
      "metadata": {
        "id": "9p1OPJwfZjgx",
        "colab_type": "code",
        "colab": {}
      },
      "source": [
        "def get_word_count(category, train_row):\n",
        "    for i in range(train_row.size):\n",
        "        category[i] += train_row[i]\n",
        "    "
      ],
      "execution_count": 0,
      "outputs": []
    },
    {
      "cell_type": "code",
      "metadata": {
        "id": "dAa4-lGiZjgz",
        "colab_type": "code",
        "colab": {}
      },
      "source": [
        "number_of_medical = 0\n",
        "number_of_space = 0\n",
        "number_of_cryptology = 0\n",
        "number_of_electronics = 0\n",
        "for label_index in range(train_labels[0].size):\n",
        "    \n",
        "    if train_labels[0][label_index] == 0: # medical\n",
        "        number_of_medical += 1\n",
        "        get_word_count(medical_word_count, train_features.loc[label_index])\n",
        "    elif train_labels[0][label_index] == 1: # space\n",
        "        number_of_space += 1\n",
        "        get_word_count(space_word_count, train_features.loc[label_index])\n",
        "    elif train_labels[0][label_index] == 2: # cryptology\n",
        "        number_of_cryptology += 1\n",
        "        get_word_count(cryptology_word_count, train_features.loc[label_index])\n",
        "    elif train_labels[0][label_index] == 3: # electronics\n",
        "        number_of_electronics += 1\n",
        "        get_word_count(electronics_word_count, train_features.loc[label_index])\n",
        "    else:\n",
        "        print(\"Something is wrong with the data\")"
      ],
      "execution_count": 0,
      "outputs": []
    },
    {
      "cell_type": "code",
      "metadata": {
        "id": "ig8Hop5BZjg1",
        "colab_type": "code",
        "colab": {}
      },
      "source": [
        "## saving number of occurences for each word in this category\n",
        "dataset = pd.DataFrame({'Word Count': medical_word_count})\n",
        "dataset.to_csv(r'medical.csv', index = None, header = True)"
      ],
      "execution_count": 0,
      "outputs": []
    },
    {
      "cell_type": "code",
      "metadata": {
        "id": "FljuDBkhZjg2",
        "colab_type": "code",
        "colab": {}
      },
      "source": [
        "## saving number of occurences for each word in this category\n",
        "dataset = pd.DataFrame({'Word Count': space_word_count})\n",
        "dataset.to_csv(r'space.csv', index = None, header = True)"
      ],
      "execution_count": 0,
      "outputs": []
    },
    {
      "cell_type": "code",
      "metadata": {
        "id": "ZAqWNMQmZjg4",
        "colab_type": "code",
        "colab": {}
      },
      "source": [
        "## saving number of occurences for each word in this category\n",
        "dataset = pd.DataFrame({'Word Count': cryptology_word_count})\n",
        "dataset.to_csv(r'cryptology.csv', index = None, header = True)"
      ],
      "execution_count": 0,
      "outputs": []
    },
    {
      "cell_type": "code",
      "metadata": {
        "id": "FebOXop7Zjg6",
        "colab_type": "code",
        "colab": {}
      },
      "source": [
        "## saving number of occurences for each word in this category\n",
        "dataset = pd.DataFrame({'Word Count': electronics_word_count})\n",
        "dataset.to_csv(r'electronics.csv', index = None, header = True)"
      ],
      "execution_count": 0,
      "outputs": []
    },
    {
      "cell_type": "code",
      "metadata": {
        "id": "77bXkuCwZjg7",
        "colab_type": "code",
        "colab": {}
      },
      "source": [
        "## loading back the number of occurences for each word in this category\n",
        "medical_df = pd.read_csv('medical.csv')\n",
        "\n",
        "for index, value in medical_df.iterrows():\n",
        "    medical_word_count[index] = value\n",
        "    pass\n",
        "medical_word_count.size"
      ],
      "execution_count": 0,
      "outputs": []
    },
    {
      "cell_type": "code",
      "metadata": {
        "id": "sTfgOA8sZjg9",
        "colab_type": "code",
        "colab": {}
      },
      "source": [
        "## loading back the number of occurences for each word in this category\n",
        "space_df = pd.read_csv('space.csv')\n",
        "\n",
        "for index, value in space_df.iterrows():\n",
        "    space_word_count[index] = value\n",
        "    pass\n",
        "space_word_count.size"
      ],
      "execution_count": 0,
      "outputs": []
    },
    {
      "cell_type": "code",
      "metadata": {
        "id": "N6M4lX-WZjg_",
        "colab_type": "code",
        "colab": {}
      },
      "source": [
        "## loading back the number of occurences for each word in this category\n",
        "cryptology_df = pd.read_csv('cryptology.csv')\n",
        "\n",
        "for index, value in cryptology_df.iterrows():\n",
        "    cryptology_word_count[index] = value\n",
        "    pass\n",
        "cryptology_word_count.size"
      ],
      "execution_count": 0,
      "outputs": []
    },
    {
      "cell_type": "code",
      "metadata": {
        "id": "8r7ZAMTBZjhA",
        "colab_type": "code",
        "colab": {}
      },
      "source": [
        "## loading back the number of occurences for each word in this category\n",
        "electronics_df = pd.read_csv('electronics.csv')\n",
        "\n",
        "for index, value in electronics_df.iterrows():\n",
        "    electronics_word_count[index] = value\n",
        "    pass\n",
        "electronics_word_count.size"
      ],
      "execution_count": 0,
      "outputs": []
    },
    {
      "cell_type": "code",
      "metadata": {
        "id": "h7IiKzdIZjhC",
        "colab_type": "code",
        "colab": {}
      },
      "source": [
        "def get_total_word_count(word_count):\n",
        "    total_word_count = 0\n",
        "    for i in range(word_count.size):\n",
        "        total_word_count += word_count[i]\n",
        "        pass\n",
        "    return total_word_count"
      ],
      "execution_count": 0,
      "outputs": []
    },
    {
      "cell_type": "code",
      "metadata": {
        "id": "9uxZfrVaZjhE",
        "colab_type": "code",
        "colab": {}
      },
      "source": [
        "total_medical_word_count = get_total_word_count(medical_word_count)\n",
        "total_space_word_count = get_total_word_count(space_word_count)\n",
        "total_cryptology_word_count = get_total_word_count(cryptology_word_count)\n",
        "total_electronics_word_count = get_total_word_count(electronics_word_count)"
      ],
      "execution_count": 0,
      "outputs": []
    },
    {
      "cell_type": "code",
      "metadata": {
        "id": "k7THB3irZjhH",
        "colab_type": "code",
        "colab": {}
      },
      "source": [
        "#These values actually found by code in 11th cell\n",
        "number_of_medical = 800\n",
        "number_of_space = 800\n",
        "number_of_cryptology = 800\n",
        "number_of_electronics = 800"
      ],
      "execution_count": 0,
      "outputs": []
    },
    {
      "cell_type": "code",
      "metadata": {
        "id": "SYs_k1quZjhK",
        "colab_type": "code",
        "colab": {}
      },
      "source": [
        "### prediction with mle\n",
        "words_mle = np.zeros([train_features.shape[1], 4])\n",
        "\n",
        "def special_divide(nominator, denominator):\n",
        "    if denominator == 0:\n",
        "        return 0\n",
        "    return nominator / denominator\n"
      ],
      "execution_count": 0,
      "outputs": []
    },
    {
      "cell_type": "code",
      "metadata": {
        "id": "S63BCowKZjhL",
        "colab_type": "code",
        "colab": {}
      },
      "source": [
        "## log P(Xj | Y = yk )\n",
        "for i in range(train_features.shape[1]):\n",
        "    words_mle[i][0] = (special_divide(medical_word_count[i], total_medical_word_count))  ## medical\n",
        "    words_mle[i][1] = (special_divide(space_word_count[i], total_space_word_count))     ## space\n",
        "    words_mle[i][2] = (special_divide(cryptology_word_count[i], total_cryptology_word_count))  ## cryptology\n",
        "    words_mle[i][3] = (special_divide(electronics_word_count[i], total_electronics_word_count)) ## electronics\n",
        "    \n",
        "words_mle"
      ],
      "execution_count": 0,
      "outputs": []
    },
    {
      "cell_type": "code",
      "metadata": {
        "id": "YOvWjBZ6ZjhO",
        "colab_type": "code",
        "colab": {}
      },
      "source": [
        "## get log P( Y = yk )\n",
        "categories_prob = np.zeros(4)\n",
        "total_train_mails = train_features.shape[0]\n",
        "categories_prob[0] = np.log((number_of_medical / total_train_mails))\n",
        "categories_prob[1] = np.log((number_of_space / total_train_mails))\n",
        "categories_prob[2] = np.log((number_of_cryptology / total_train_mails))\n",
        "categories_prob[3] = np.log((number_of_electronics / total_train_mails))\n",
        "categories_prob.size"
      ],
      "execution_count": 0,
      "outputs": []
    },
    {
      "cell_type": "code",
      "metadata": {
        "id": "SLTESGiRZjhP",
        "colab_type": "code",
        "colab": {}
      },
      "source": [
        "def product(x, y):\n",
        "    if y == 0:\n",
        "        if x != 0:\n",
        "            return -np.inf\n",
        "        else:\n",
        "            return 0\n",
        "            pass\n",
        "        pass\n",
        "    else:\n",
        "        return x * math.log(y)"
      ],
      "execution_count": 0,
      "outputs": []
    },
    {
      "cell_type": "code",
      "metadata": {
        "id": "KnMFRqHEZjhR",
        "colab_type": "code",
        "colab": {}
      },
      "source": [
        "def classifier(test_data, category_prob, words):\n",
        "    inner_sums = []\n",
        "    max_value = -np.inf\n",
        "    category = 1\n",
        "    for i  in range(category_prob.size):\n",
        "        inner_sum = 0\n",
        "        value = 0\n",
        "        for index in range(test_data.shape[0]):\n",
        "            value = product(test_data[index], words[index][i])\n",
        "            if  value == -np.inf:\n",
        "                break\n",
        "            else:\n",
        "                inner_sum += value\n",
        "        if value == -np.inf:\n",
        "            continue\n",
        "        inner_sum += category_prob[i]\n",
        "        inner_sums.append(inner_sum)\n",
        "        if max_value < inner_sum:\n",
        "            max_value = inner_sum\n",
        "            category = i\n",
        "            \n",
        "    #print(category)\n",
        "    return category, inner_sums\n",
        "\n",
        "def calc_accuracy(actual_values, predictions):\n",
        "    correct = 0\n",
        "    for i in range(len(predictions)):\n",
        "        if predictions[i][0] == actual_values[i]:\n",
        "            correct += 1\n",
        "        \n",
        "            \n",
        "    return (correct/float(actual_values.size)*100)"
      ],
      "execution_count": 0,
      "outputs": []
    },
    {
      "cell_type": "code",
      "metadata": {
        "id": "Uzddnn-9ZjhS",
        "colab_type": "code",
        "colab": {}
      },
      "source": [
        "results = []\n",
        "for i in range(test_features.shape[0]):\n",
        "    results.append(classifier(test_features.loc[i], categories_prob, words_mle))"
      ],
      "execution_count": 0,
      "outputs": []
    },
    {
      "cell_type": "code",
      "metadata": {
        "id": "YHkDPIiRZjhU",
        "colab_type": "code",
        "colab": {}
      },
      "source": [
        "actual_values = np.zeros([test_labels.size])"
      ],
      "execution_count": 0,
      "outputs": []
    },
    {
      "cell_type": "code",
      "metadata": {
        "id": "Aw0uMM2cZjhV",
        "colab_type": "code",
        "colab": {}
      },
      "source": [
        "for i in  range(actual_values.shape[0]):\n",
        "    actual_values[i] = test_labels.loc[i]"
      ],
      "execution_count": 0,
      "outputs": []
    },
    {
      "cell_type": "code",
      "metadata": {
        "id": "2wK64rRsZjhX",
        "colab_type": "code",
        "colab": {}
      },
      "source": [
        "acc = calc_accuracy(actual_values, results)\n",
        "acc"
      ],
      "execution_count": 0,
      "outputs": []
    },
    {
      "cell_type": "code",
      "metadata": {
        "id": "jNrZ9L-QZjhY",
        "colab_type": "code",
        "colab": {}
      },
      "source": [
        "### saving results on another array\n",
        "category_mle = []\n",
        "for i in range(len(results)):\n",
        "    category_mle.append(results[i][0])"
      ],
      "execution_count": 0,
      "outputs": []
    },
    {
      "cell_type": "code",
      "metadata": {
        "id": "-jGevnOIZjha",
        "colab_type": "code",
        "colab": {}
      },
      "source": [
        "### saving mle predictions on csv file\n",
        "dataset = pd.DataFrame({'Category': category_mle})\n",
        "dataset.to_csv(r'prediction_mle.csv', index = None, header = True)"
      ],
      "execution_count": 0,
      "outputs": []
    },
    {
      "cell_type": "code",
      "metadata": {
        "id": "NC8b-YEkZjhb",
        "colab_type": "code",
        "colab": {}
      },
      "source": [
        "### prediction with map ### \n",
        "words_map = np.zeros([train_features.shape[1], 4])\n",
        "\n",
        "\n",
        "def drichlet_prior(nominator, denominator, alfa, length):\n",
        "    return special_divide(nominator + alfa, denominator + alfa * length)"
      ],
      "execution_count": 0,
      "outputs": []
    },
    {
      "cell_type": "code",
      "metadata": {
        "id": "ESOrZhc4Zjhd",
        "colab_type": "code",
        "colab": {}
      },
      "source": [
        "## log P(Xj | Y = yk )\n",
        "for i in range(train_features.shape[1]):\n",
        "    words_map[i][0] = drichlet_prior(medical_word_count[i], total_medical_word_count, 1, train_features.shape[1])  ## medical\n",
        "    words_map[i][1] = drichlet_prior(space_word_count[i], total_space_word_count, 1, train_features.shape[1])      ## space\n",
        "    words_map[i][2] = drichlet_prior(cryptology_word_count[i], total_cryptology_word_count, 1, train_features.shape[1])   ## cryptology\n",
        "    words_map[i][3] = drichlet_prior(electronics_word_count[i], total_electronics_word_count, 1, train_features.shape[1]) ## electronics\n",
        "    "
      ],
      "execution_count": 0,
      "outputs": []
    },
    {
      "cell_type": "code",
      "metadata": {
        "id": "iiVdW9wVZjhe",
        "colab_type": "code",
        "colab": {}
      },
      "source": [
        "results = []\n",
        "for i in range(test_features.shape[0]):\n",
        "    results.append(classifier(test_features.loc[i], categories_prob, words_map))"
      ],
      "execution_count": 0,
      "outputs": []
    },
    {
      "cell_type": "code",
      "metadata": {
        "id": "YleYQUtHZjhf",
        "colab_type": "code",
        "colab": {}
      },
      "source": [
        "acc = calc_accuracy(actual_values, results)\n",
        "acc"
      ],
      "execution_count": 0,
      "outputs": []
    },
    {
      "cell_type": "code",
      "metadata": {
        "id": "_ljlnJAVZjhg",
        "colab_type": "code",
        "colab": {}
      },
      "source": [
        "### saving results on another array\n",
        "category_map = []\n",
        "for i in range(len(results)):\n",
        "    category_map.append(results[i][0])"
      ],
      "execution_count": 0,
      "outputs": []
    },
    {
      "cell_type": "code",
      "metadata": {
        "id": "n-T_mtykZjhj",
        "colab_type": "code",
        "colab": {}
      },
      "source": [
        "### saving MAP predictions on csv file\n",
        "dataset = pd.DataFrame({'Category': category_map})\n",
        "dataset.to_csv(r'prediction_map.csv', index = None, header = True)"
      ],
      "execution_count": 0,
      "outputs": []
    },
    {
      "cell_type": "code",
      "metadata": {
        "id": "_h5jWIisZjhl",
        "colab_type": "code",
        "colab": {}
      },
      "source": [
        "#### Confusion Matrix for mle and map predictions  ####\n",
        "## You can read the prediction values from these csv files.\n",
        "predictions_mle = np.zeros(800)\n",
        "predictions_map = np.zeros(800)\n",
        "\n",
        "df = pd.read_csv(\"prediction_mle.csv\")\n",
        "\n",
        "for index, value in df.iterrows():\n",
        "    predictions_mle[index] = value\n",
        "    \n",
        "df = pd.read_csv(\"prediction_map.csv\")\n",
        "\n",
        "\n",
        "for index, value in df.iterrows():\n",
        "    predictions_map[index] = value"
      ],
      "execution_count": 0,
      "outputs": []
    },
    {
      "cell_type": "code",
      "metadata": {
        "id": "3ugYxcAdZjho",
        "colab_type": "code",
        "colab": {}
      },
      "source": [
        "def get_confusion_matrix(predictions, actual_values):\n",
        "    cm = np.zeros((4,4))\n",
        "    for pred, act in zip(predictions, actual_values):\n",
        "        if act == 0:\n",
        "            if pred == 0:\n",
        "                cm[0][0] += 1\n",
        "            elif pred == 1:\n",
        "                cm[0][1] += 1\n",
        "            elif pred == 2:\n",
        "                cm[0][2] += 1\n",
        "            elif pred == 3:\n",
        "                cm[0][3] += 1\n",
        "        elif act == 1:\n",
        "            if pred == 0:\n",
        "                cm[1][0] += 1\n",
        "            elif pred == 1:\n",
        "                cm[1][1] += 1\n",
        "            elif pred == 2:\n",
        "                cm[1][2] += 1\n",
        "            elif pred == 3:\n",
        "                cm[1][3] += 1\n",
        "        elif act == 2:\n",
        "            if pred == 0:\n",
        "                cm[2][0] += 1\n",
        "            elif pred == 1:\n",
        "                cm[2][1] += 1\n",
        "            elif pred == 2:\n",
        "                cm[2][2] += 1\n",
        "            elif pred == 3:\n",
        "                cm[2][3] += 1\n",
        "        else:\n",
        "            if pred == 0:\n",
        "                cm[3][0] += 1\n",
        "            elif pred == 1:\n",
        "                cm[3][1] += 1\n",
        "            elif pred == 2:\n",
        "                cm[3][2] += 1\n",
        "            elif pred == 3:\n",
        "                cm[3][3] += 1\n",
        "    return cm"
      ],
      "execution_count": 0,
      "outputs": []
    },
    {
      "cell_type": "code",
      "metadata": {
        "id": "pjoDrCwqZjhp",
        "colab_type": "code",
        "colab": {}
      },
      "source": [
        "### confusion matrix for predictions with mle approach\n",
        "cm_mle = get_confusion_matrix(predictions_mle, actual_values)\n",
        "cm_mle"
      ],
      "execution_count": 0,
      "outputs": []
    },
    {
      "cell_type": "code",
      "metadata": {
        "id": "D7F8enulZjhr",
        "colab_type": "code",
        "colab": {}
      },
      "source": [
        "### confusion matrix for predictions with map approach\n",
        "cm_map = get_confusion_matrix(predictions_map, actual_values)\n",
        "cm_map"
      ],
      "execution_count": 0,
      "outputs": []
    },
    {
      "cell_type": "code",
      "metadata": {
        "id": "SorL7rCRZjhs",
        "colab_type": "code",
        "colab": {}
      },
      "source": [
        "def print_smallest_or_highest_probs(results, kind):\n",
        "    for i in range(len(results)):\n",
        "        results[i][1].sort(reverse = kind)\n",
        "    probs = []\n",
        "    for i in range(len(results)):\n",
        "        probs.append((i, results[i][0], results[i][1][0]))\n",
        "    probs.sort(key = operator.itemgetter(2), reverse = kind)\n",
        "    med = False \n",
        "    space = False \n",
        "    cryp = False \n",
        "    elec = False\n",
        "    for i in range(len(probs)):\n",
        "        if probs[i][1] == 0 and med == False:\n",
        "            print( \"medicine - index: \" , probs[i][0], \" probabilities: \", results[probs[i][0]][1])\n",
        "            med = True\n",
        "        elif probs[i][1] == 1 and space == False:\n",
        "            print( \"space - index: \" , probs[i][0], \" probabilities: \", results[probs[i][0]][1])\n",
        "            space = True\n",
        "        elif probs[i][1] == 2 and cryp == False:\n",
        "            print( \"cryptology - index: \" , probs[i][0], \" probabilities: \", results[probs[i][0]][1] )\n",
        "            cryp = True\n",
        "        elif probs[i][1] == 3 and elec == False:\n",
        "            print( \"electronics - index: \" , probs[i][0], \" probabilities: \", results[probs[i][0]][1])\n",
        "            elec = True"
      ],
      "execution_count": 0,
      "outputs": []
    },
    {
      "cell_type": "code",
      "metadata": {
        "id": "qen51H23Zjht",
        "colab_type": "code",
        "colab": {}
      },
      "source": [
        "#it is for MAP estimation results, therefore be careful when you run and be sure you are running the results which are found by MAP values\n",
        "#print_smallest_or_highest_probs(results, True)\n",
        "#print_smallest_or_highest_probs(results, False)"
      ],
      "execution_count": 0,
      "outputs": []
    },
    {
      "cell_type": "code",
      "metadata": {
        "id": "J5RnmayqZjhu",
        "colab_type": "code",
        "colab": {}
      },
      "source": [
        "file = open('question-4-vocab.txt', 'r')\n",
        "vocab = file.read().splitlines()\n",
        "file.close()"
      ],
      "execution_count": 0,
      "outputs": []
    },
    {
      "cell_type": "code",
      "metadata": {
        "id": "4gEtMVA8Zjhy",
        "colab_type": "code",
        "colab": {}
      },
      "source": [
        "def get_words_sorted_with_index(words, kind):\n",
        "    sorted_words = []\n",
        "    for i in range(words.shape[0]):\n",
        "        sorted_words.append((i, words[i]))\n",
        "    sorted_words.sort(key = operator.itemgetter(1), reverse = kind)\n",
        "    return sorted_words\n",
        "\n",
        "def get_top_20(words, vocab):\n",
        "    top_20 = []\n",
        "    for i in range(20):\n",
        "        top_20.append(vocab[words[i][0]])\n",
        "    return top_20"
      ],
      "execution_count": 0,
      "outputs": []
    },
    {
      "cell_type": "code",
      "metadata": {
        "id": "brWD-tDnZjh1",
        "colab_type": "code",
        "colab": {}
      },
      "source": [
        " ## the parameter kind == true it will use the highest probable words if it is false it will find the lowest probable words\n",
        "medical_words_sorted = get_words_sorted_with_index(medical_word_count, True)\n",
        "space_words_sorted = get_words_sorted_with_index(space_word_count, True)\n",
        "cryptology_words_sorted = get_words_sorted_with_index(cryptology_word_count, True)\n",
        "electronics_words_sorted = get_words_sorted_with_index(electronics_word_count, True)\n",
        "\n",
        "# Please uncomment the code for finding lowest probable words\n",
        "\n",
        "#medical_words_sorted = get_words_sorted_with_index(medical_word_count, False)\n",
        "#space_words_sorted = get_words_sorted_with_index(space_word_count, False)\n",
        "#cryptology_words_sorted = get_words_sorted_with_index(cryptology_word_count, False)\n",
        "#electronics_words_sorted = get_words_sorted_with_index(electronics_word_count, False)"
      ],
      "execution_count": 0,
      "outputs": []
    },
    {
      "cell_type": "code",
      "metadata": {
        "id": "utQysC4DZjh2",
        "colab_type": "code",
        "colab": {}
      },
      "source": [
        "medical_top = get_top_20(medical_words_sorted, vocab)\n",
        "space_top = get_top_20(space_words_sorted, vocab)\n",
        "cryptology_top = get_top_20(cryptology_words_sorted, vocab)\n",
        "electronics_top = get_top_20(electronics_words_sorted, vocab)"
      ],
      "execution_count": 0,
      "outputs": []
    },
    {
      "cell_type": "code",
      "metadata": {
        "id": "TjRius5xZjh4",
        "colab_type": "code",
        "colab": {}
      },
      "source": [
        "tops = [medical_top, space_top, cryptology_top, electronics_top]\n",
        "for top in tops:\n",
        "    for i in top:\n",
        "        print(i)\n",
        "    print(\"\\n\")"
      ],
      "execution_count": 0,
      "outputs": []
    },
    {
      "cell_type": "code",
      "metadata": {
        "id": "QJiOA9fPZjh5",
        "colab_type": "code",
        "colab": {}
      },
      "source": [
        ""
      ],
      "execution_count": 0,
      "outputs": []
    }
  ]
}